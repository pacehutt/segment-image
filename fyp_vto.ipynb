{
  "nbformat": 4,
  "nbformat_minor": 0,
  "metadata": {
    "colab": {
      "provenance": [],
      "gpuType": "T4",
      "authorship_tag": "ABX9TyPrTBUbzDlU3mm0CJA1GtcL",
      "include_colab_link": true
    },
    "kernelspec": {
      "name": "python3",
      "display_name": "Python 3"
    },
    "language_info": {
      "name": "python"
    },
    "accelerator": "GPU"
  },
  "cells": [
    {
      "cell_type": "markdown",
      "metadata": {
        "id": "view-in-github",
        "colab_type": "text"
      },
      "source": [
        "<a href=\"https://colab.research.google.com/github/pacehutt/segment-image/blob/main/fyp_vto.ipynb\" target=\"_parent\"><img src=\"https://colab.research.google.com/assets/colab-badge.svg\" alt=\"Open In Colab\"/></a>"
      ]
    },
    {
      "cell_type": "code",
      "execution_count": 1,
      "metadata": {
        "colab": {
          "base_uri": "https://localhost:8080/"
        },
        "id": "2BoNuDczOL5q",
        "outputId": "9058e844-a659-41bb-d7b1-db0988bd5ccd"
      },
      "outputs": [
        {
          "output_type": "stream",
          "name": "stdout",
          "text": [
            "Cloning into 'segment-image'...\n",
            "remote: Enumerating objects: 40, done.\u001b[K\n",
            "remote: Counting objects: 100% (40/40), done.\u001b[K\n",
            "remote: Compressing objects: 100% (32/32), done.\u001b[K\n",
            "remote: Total 40 (delta 1), reused 40 (delta 1), pack-reused 0 (from 0)\u001b[K\n",
            "Receiving objects: 100% (40/40), 10.62 KiB | 10.62 MiB/s, done.\n",
            "Resolving deltas: 100% (1/1), done.\n",
            "python3: can't open file '/content/segment-image/setup.py': [Errno 2] No such file or directory\n"
          ]
        }
      ],
      "source": [
        "!git clone https://github.com/pacehutt/segment-image.git && cd segment-image && python setup.py install"
      ]
    },
    {
      "cell_type": "code",
      "source": [
        "!cd segment-image && pip install --no-deps -r requirements.txt"
      ],
      "metadata": {
        "colab": {
          "base_uri": "https://localhost:8080/"
        },
        "id": "03PMzk12OXed",
        "outputId": "934fe7dc-7488-4bbc-bdb5-4947bd4bb7ac"
      },
      "execution_count": 10,
      "outputs": [
        {
          "output_type": "stream",
          "name": "stdout",
          "text": [
            "Requirement already satisfied: accelerate==0.26.1 in /usr/local/lib/python3.11/dist-packages (from -r requirements.txt (line 1)) (0.26.1)\n",
            "Requirement already satisfied: aiofiles==23.2.1 in /usr/local/lib/python3.11/dist-packages (from -r requirements.txt (line 2)) (23.2.1)\n",
            "Requirement already satisfied: altair==5.2.0 in /usr/local/lib/python3.11/dist-packages (from -r requirements.txt (line 3)) (5.2.0)\n",
            "Requirement already satisfied: annotated-types==0.6.0 in /usr/local/lib/python3.11/dist-packages (from -r requirements.txt (line 4)) (0.6.0)\n",
            "Requirement already satisfied: anyio==4.2.0 in /usr/local/lib/python3.11/dist-packages (from -r requirements.txt (line 5)) (4.2.0)\n",
            "Requirement already satisfied: attrs==23.2.0 in /usr/local/lib/python3.11/dist-packages (from -r requirements.txt (line 6)) (23.2.0)\n",
            "Requirement already satisfied: blinker==1.7.0 in /usr/local/lib/python3.11/dist-packages (from -r requirements.txt (line 7)) (1.7.0)\n",
            "Requirement already satisfied: cachetools==5.3.2 in /usr/local/lib/python3.11/dist-packages (from -r requirements.txt (line 8)) (5.3.2)\n",
            "Requirement already satisfied: certifi==2023.11.17 in /usr/local/lib/python3.11/dist-packages (from -r requirements.txt (line 9)) (2023.11.17)\n",
            "Requirement already satisfied: charset-normalizer==3.3.2 in /usr/local/lib/python3.11/dist-packages (from -r requirements.txt (line 10)) (3.3.2)\n",
            "Requirement already satisfied: click==8.1.7 in /usr/local/lib/python3.11/dist-packages (from -r requirements.txt (line 11)) (8.1.7)\n",
            "Requirement already satisfied: colorama==0.4.6 in /usr/local/lib/python3.11/dist-packages (from -r requirements.txt (line 12)) (0.4.6)\n",
            "Requirement already satisfied: coloredlogs==15.0.1 in /usr/local/lib/python3.11/dist-packages (from -r requirements.txt (line 13)) (15.0.1)\n",
            "Requirement already satisfied: contourpy==1.2.0 in /usr/local/lib/python3.11/dist-packages (from -r requirements.txt (line 14)) (1.2.0)\n",
            "Requirement already satisfied: cycler==0.12.1 in /usr/local/lib/python3.11/dist-packages (from -r requirements.txt (line 15)) (0.12.1)\n",
            "Requirement already satisfied: diffusers==0.25.1 in /usr/local/lib/python3.11/dist-packages (from -r requirements.txt (line 16)) (0.25.1)\n",
            "Requirement already satisfied: fastapi==0.109.0 in /usr/local/lib/python3.11/dist-packages (from -r requirements.txt (line 17)) (0.109.0)\n",
            "Requirement already satisfied: ffmpy==0.3.1 in /usr/local/lib/python3.11/dist-packages (from -r requirements.txt (line 18)) (0.3.1)\n",
            "Requirement already satisfied: filelock==3.13.1 in /usr/local/lib/python3.11/dist-packages (from -r requirements.txt (line 19)) (3.13.1)\n",
            "Requirement already satisfied: flatbuffers==23.5.26 in /usr/local/lib/python3.11/dist-packages (from -r requirements.txt (line 20)) (23.5.26)\n",
            "Requirement already satisfied: fonttools==4.47.2 in /usr/local/lib/python3.11/dist-packages (from -r requirements.txt (line 21)) (4.47.2)\n",
            "Requirement already satisfied: fsspec==2023.12.2 in /usr/local/lib/python3.11/dist-packages (from -r requirements.txt (line 22)) (2023.12.2)\n",
            "Requirement already satisfied: gitdb==4.0.11 in /usr/local/lib/python3.11/dist-packages (from -r requirements.txt (line 23)) (4.0.11)\n",
            "Requirement already satisfied: GitPython==3.1.41 in /usr/local/lib/python3.11/dist-packages (from -r requirements.txt (line 24)) (3.1.41)\n",
            "Requirement already satisfied: gradio==4.14.0 in /usr/local/lib/python3.11/dist-packages (from -r requirements.txt (line 25)) (4.14.0)\n",
            "Requirement already satisfied: gradio_client==0.8.0 in /usr/local/lib/python3.11/dist-packages (from -r requirements.txt (line 26)) (0.8.0)\n",
            "Requirement already satisfied: h11==0.14.0 in /usr/local/lib/python3.11/dist-packages (from -r requirements.txt (line 27)) (0.14.0)\n",
            "Requirement already satisfied: httpcore==1.0.2 in /usr/local/lib/python3.11/dist-packages (from -r requirements.txt (line 28)) (1.0.2)\n",
            "Requirement already satisfied: httpx==0.26.0 in /usr/local/lib/python3.11/dist-packages (from -r requirements.txt (line 29)) (0.26.0)\n",
            "Requirement already satisfied: huggingface-hub==0.20.2 in /usr/local/lib/python3.11/dist-packages (from -r requirements.txt (line 30)) (0.20.2)\n",
            "Requirement already satisfied: humanfriendly==10.0 in /usr/local/lib/python3.11/dist-packages (from -r requirements.txt (line 31)) (10.0)\n",
            "Requirement already satisfied: idna==3.6 in /usr/local/lib/python3.11/dist-packages (from -r requirements.txt (line 32)) (3.6)\n",
            "Requirement already satisfied: importlib-metadata==7.0.1 in /usr/local/lib/python3.11/dist-packages (from -r requirements.txt (line 33)) (7.0.1)\n",
            "Requirement already satisfied: importlib-resources==6.1.1 in /usr/local/lib/python3.11/dist-packages (from -r requirements.txt (line 34)) (6.1.1)\n",
            "Requirement already satisfied: Jinja2==3.1.3 in /usr/local/lib/python3.11/dist-packages (from -r requirements.txt (line 35)) (3.1.3)\n",
            "Requirement already satisfied: jsonschema==4.21.0 in /usr/local/lib/python3.11/dist-packages (from -r requirements.txt (line 36)) (4.21.0)\n",
            "Requirement already satisfied: jsonschema-specifications==2023.12.1 in /usr/local/lib/python3.11/dist-packages (from -r requirements.txt (line 37)) (2023.12.1)\n",
            "Requirement already satisfied: kiwisolver==1.4.5 in /usr/local/lib/python3.11/dist-packages (from -r requirements.txt (line 38)) (1.4.5)\n",
            "Requirement already satisfied: markdown-it-py==3.0.0 in /usr/local/lib/python3.11/dist-packages (from -r requirements.txt (line 39)) (3.0.0)\n",
            "Requirement already satisfied: MarkupSafe==2.1.3 in /usr/local/lib/python3.11/dist-packages (from -r requirements.txt (line 40)) (2.1.3)\n",
            "Requirement already satisfied: matplotlib==3.8.2 in /usr/local/lib/python3.11/dist-packages (from -r requirements.txt (line 41)) (3.8.2)\n",
            "Requirement already satisfied: mdurl==0.1.2 in /usr/local/lib/python3.11/dist-packages (from -r requirements.txt (line 42)) (0.1.2)\n",
            "Requirement already satisfied: mpmath==1.3.0 in /usr/local/lib/python3.11/dist-packages (from -r requirements.txt (line 43)) (1.3.0)\n",
            "Requirement already satisfied: networkx==3.0 in /usr/local/lib/python3.11/dist-packages (from -r requirements.txt (line 44)) (3.0)\n",
            "Requirement already satisfied: numpy==1.26.3 in /usr/local/lib/python3.11/dist-packages (from -r requirements.txt (line 45)) (1.26.3)\n",
            "Requirement already satisfied: onnx==1.15.0 in /usr/local/lib/python3.11/dist-packages (from -r requirements.txt (line 46)) (1.15.0)\n",
            "Requirement already satisfied: onnxruntime==1.16.3 in /usr/local/lib/python3.11/dist-packages (from -r requirements.txt (line 47)) (1.16.3)\n",
            "Requirement already satisfied: opencv-python==4.9.0.80 in /usr/local/lib/python3.11/dist-packages (from -r requirements.txt (line 48)) (4.9.0.80)\n",
            "Requirement already satisfied: orjson==3.9.10 in /usr/local/lib/python3.11/dist-packages (from -r requirements.txt (line 49)) (3.9.10)\n",
            "Requirement already satisfied: packaging==23.2 in /usr/local/lib/python3.11/dist-packages (from -r requirements.txt (line 50)) (23.2)\n",
            "Requirement already satisfied: pandas==2.1.4 in /usr/local/lib/python3.11/dist-packages (from -r requirements.txt (line 51)) (2.1.4)\n",
            "Requirement already satisfied: pillow==10.2.0 in /usr/local/lib/python3.11/dist-packages (from -r requirements.txt (line 52)) (10.2.0)\n",
            "Requirement already satisfied: protobuf==4.25.2 in /usr/local/lib/python3.11/dist-packages (from -r requirements.txt (line 53)) (4.25.2)\n",
            "Requirement already satisfied: psutil==5.9.7 in /usr/local/lib/python3.11/dist-packages (from -r requirements.txt (line 54)) (5.9.7)\n",
            "Requirement already satisfied: pyarrow==14.0.2 in /usr/local/lib/python3.11/dist-packages (from -r requirements.txt (line 55)) (14.0.2)\n",
            "Requirement already satisfied: pycocotools==2.0.7 in /usr/local/lib/python3.11/dist-packages (from -r requirements.txt (line 56)) (2.0.7)\n",
            "Requirement already satisfied: pydantic==2.5.3 in /usr/local/lib/python3.11/dist-packages (from -r requirements.txt (line 57)) (2.5.3)\n",
            "Requirement already satisfied: pydantic_core==2.14.6 in /usr/local/lib/python3.11/dist-packages (from -r requirements.txt (line 58)) (2.14.6)\n",
            "Requirement already satisfied: pydeck==0.8.1b0 in /usr/local/lib/python3.11/dist-packages (from -r requirements.txt (line 59)) (0.8.1b0)\n",
            "Requirement already satisfied: pydub==0.25.1 in /usr/local/lib/python3.11/dist-packages (from -r requirements.txt (line 60)) (0.25.1)\n",
            "Requirement already satisfied: Pygments==2.17.2 in /usr/local/lib/python3.11/dist-packages (from -r requirements.txt (line 61)) (2.17.2)\n",
            "Requirement already satisfied: pyparsing==3.1.1 in /usr/local/lib/python3.11/dist-packages (from -r requirements.txt (line 62)) (3.1.1)\n",
            "Requirement already satisfied: pyreadline3==3.4.1 in /usr/local/lib/python3.11/dist-packages (from -r requirements.txt (line 63)) (3.4.1)\n",
            "Requirement already satisfied: python-dateutil==2.8.2 in /usr/local/lib/python3.11/dist-packages (from -r requirements.txt (line 64)) (2.8.2)\n",
            "Requirement already satisfied: python-multipart==0.0.6 in /usr/local/lib/python3.11/dist-packages (from -r requirements.txt (line 65)) (0.0.6)\n",
            "Requirement already satisfied: pytz==2023.3.post1 in /usr/local/lib/python3.11/dist-packages (from -r requirements.txt (line 66)) (2023.3.post1)\n",
            "Requirement already satisfied: PyYAML==6.0.1 in /usr/local/lib/python3.11/dist-packages (from -r requirements.txt (line 67)) (6.0.1)\n",
            "Requirement already satisfied: referencing==0.32.1 in /usr/local/lib/python3.11/dist-packages (from -r requirements.txt (line 68)) (0.32.1)\n",
            "Requirement already satisfied: regex==2023.12.25 in /usr/local/lib/python3.11/dist-packages (from -r requirements.txt (line 69)) (2023.12.25)\n",
            "Requirement already satisfied: requests==2.31.0 in /usr/local/lib/python3.11/dist-packages (from -r requirements.txt (line 70)) (2.31.0)\n",
            "Requirement already satisfied: rich==13.7.0 in /usr/local/lib/python3.11/dist-packages (from -r requirements.txt (line 71)) (13.7.0)\n",
            "Requirement already satisfied: rpds-py==0.17.1 in /usr/local/lib/python3.11/dist-packages (from -r requirements.txt (line 72)) (0.17.1)\n",
            "Requirement already satisfied: safetensors==0.4.1 in /usr/local/lib/python3.11/dist-packages (from -r requirements.txt (line 73)) (0.4.1)\n",
            "Requirement already satisfied: segment-anything==1.0 in /usr/local/lib/python3.11/dist-packages (from -r requirements.txt (line 74)) (1.0)\n",
            "Requirement already satisfied: semantic-version==2.10.0 in /usr/local/lib/python3.11/dist-packages (from -r requirements.txt (line 75)) (2.10.0)\n",
            "Requirement already satisfied: shellingham==1.5.4 in /usr/local/lib/python3.11/dist-packages (from -r requirements.txt (line 76)) (1.5.4)\n",
            "Requirement already satisfied: six==1.16.0 in /usr/local/lib/python3.11/dist-packages (from -r requirements.txt (line 77)) (1.16.0)\n",
            "Requirement already satisfied: smmap==5.0.1 in /usr/local/lib/python3.11/dist-packages (from -r requirements.txt (line 78)) (5.0.1)\n",
            "Requirement already satisfied: sniffio==1.3.0 in /usr/local/lib/python3.11/dist-packages (from -r requirements.txt (line 79)) (1.3.0)\n",
            "Requirement already satisfied: starlette==0.35.1 in /usr/local/lib/python3.11/dist-packages (from -r requirements.txt (line 80)) (0.35.1)\n",
            "Requirement already satisfied: streamlit==1.30.0 in /usr/local/lib/python3.11/dist-packages (from -r requirements.txt (line 81)) (1.30.0)\n",
            "Requirement already satisfied: sympy==1.12 in /usr/local/lib/python3.11/dist-packages (from -r requirements.txt (line 82)) (1.12)\n",
            "Requirement already satisfied: tenacity==8.2.3 in /usr/local/lib/python3.11/dist-packages (from -r requirements.txt (line 83)) (8.2.3)\n",
            "Requirement already satisfied: tokenizers==0.15.0 in /usr/local/lib/python3.11/dist-packages (from -r requirements.txt (line 84)) (0.15.0)\n",
            "Requirement already satisfied: toml==0.10.2 in /usr/local/lib/python3.11/dist-packages (from -r requirements.txt (line 85)) (0.10.2)\n",
            "Requirement already satisfied: tomlkit==0.12.0 in /usr/local/lib/python3.11/dist-packages (from -r requirements.txt (line 86)) (0.12.0)\n",
            "Requirement already satisfied: toolz==0.12.0 in /usr/local/lib/python3.11/dist-packages (from -r requirements.txt (line 87)) (0.12.0)\n",
            "Requirement already satisfied: tornado==6.4 in /usr/local/lib/python3.11/dist-packages (from -r requirements.txt (line 88)) (6.4)\n",
            "Requirement already satisfied: tqdm==4.66.1 in /usr/local/lib/python3.11/dist-packages (from -r requirements.txt (line 89)) (4.66.1)\n",
            "Requirement already satisfied: transformers==4.36.2 in /usr/local/lib/python3.11/dist-packages (from -r requirements.txt (line 90)) (4.36.2)\n",
            "Requirement already satisfied: typer==0.9.0 in /usr/local/lib/python3.11/dist-packages (from -r requirements.txt (line 91)) (0.9.0)\n",
            "Requirement already satisfied: typing_extensions==4.9.0 in /usr/local/lib/python3.11/dist-packages (from -r requirements.txt (line 92)) (4.9.0)\n",
            "Requirement already satisfied: tzdata==2023.4 in /usr/local/lib/python3.11/dist-packages (from -r requirements.txt (line 93)) (2023.4)\n",
            "Requirement already satisfied: tzlocal==5.2 in /usr/local/lib/python3.11/dist-packages (from -r requirements.txt (line 94)) (5.2)\n",
            "Requirement already satisfied: urllib3==2.1.0 in /usr/local/lib/python3.11/dist-packages (from -r requirements.txt (line 95)) (2.1.0)\n",
            "Requirement already satisfied: uvicorn==0.26.0 in /usr/local/lib/python3.11/dist-packages (from -r requirements.txt (line 96)) (0.26.0)\n",
            "Requirement already satisfied: validators==0.22.0 in /usr/local/lib/python3.11/dist-packages (from -r requirements.txt (line 97)) (0.22.0)\n",
            "Requirement already satisfied: watchdog==3.0.0 in /usr/local/lib/python3.11/dist-packages (from -r requirements.txt (line 98)) (3.0.0)\n",
            "Requirement already satisfied: websockets==11.0.3 in /usr/local/lib/python3.11/dist-packages (from -r requirements.txt (line 99)) (11.0.3)\n",
            "Requirement already satisfied: zipp==3.17.0 in /usr/local/lib/python3.11/dist-packages (from -r requirements.txt (line 100)) (3.17.0)\n"
          ]
        }
      ]
    },
    {
      "cell_type": "code",
      "source": [
        "!mkdir -p segment-image/weights && \\\n",
        "wget -q --show-progress -O segment-image/weights/sam_vit_l_0b3195.pth \\\n",
        "\"https://dl.fbaipublicfiles.com/segment_anything/sam_vit_l_0b3195.pth\""
      ],
      "metadata": {
        "colab": {
          "base_uri": "https://localhost:8080/"
        },
        "id": "K-GyHshvOjr6",
        "outputId": "c3c84fda-ce18-4eee-b78e-bd212e4febb7"
      },
      "execution_count": 3,
      "outputs": [
        {
          "output_type": "stream",
          "name": "stdout",
          "text": [
            "segment-image/weigh 100%[===================>]   1.16G   146MB/s    in 6.0s    \n"
          ]
        }
      ]
    },
    {
      "cell_type": "code",
      "source": [
        "!cd segment-image && git reset --hard 63fb9f155bef1535b675d51d95c70ae95d5a1e14"
      ],
      "metadata": {
        "colab": {
          "base_uri": "https://localhost:8080/"
        },
        "id": "tpTcKgjnRkNG",
        "outputId": "bdb532ea-ba11-4821-abe8-a20f8ecf8de9"
      },
      "execution_count": 8,
      "outputs": [
        {
          "output_type": "stream",
          "name": "stdout",
          "text": [
            "HEAD is now at 63fb9f1 - initial commit\n"
          ]
        }
      ]
    },
    {
      "cell_type": "code",
      "source": [
        "!pip install --upgrade \"transformers>=4.41.0\""
      ],
      "metadata": {
        "colab": {
          "base_uri": "https://localhost:8080/"
        },
        "id": "axT0ha3GSAWt",
        "outputId": "65200950-5a1c-4bd7-fa5c-1c3742fc8bad"
      },
      "execution_count": 14,
      "outputs": [
        {
          "output_type": "stream",
          "name": "stdout",
          "text": [
            "Collecting transformers>=4.41.0\n",
            "  Downloading transformers-4.51.3-py3-none-any.whl.metadata (38 kB)\n",
            "Requirement already satisfied: filelock in /usr/local/lib/python3.11/dist-packages (from transformers>=4.41.0) (3.13.1)\n",
            "Requirement already satisfied: huggingface-hub<1.0,>=0.30.0 in /usr/local/lib/python3.11/dist-packages (from transformers>=4.41.0) (0.31.1)\n",
            "Requirement already satisfied: numpy>=1.17 in /usr/local/lib/python3.11/dist-packages (from transformers>=4.41.0) (1.26.3)\n",
            "Requirement already satisfied: packaging>=20.0 in /usr/local/lib/python3.11/dist-packages (from transformers>=4.41.0) (23.2)\n",
            "Requirement already satisfied: pyyaml>=5.1 in /usr/local/lib/python3.11/dist-packages (from transformers>=4.41.0) (6.0.1)\n",
            "Requirement already satisfied: regex!=2019.12.17 in /usr/local/lib/python3.11/dist-packages (from transformers>=4.41.0) (2023.12.25)\n",
            "Requirement already satisfied: requests in /usr/local/lib/python3.11/dist-packages (from transformers>=4.41.0) (2.31.0)\n",
            "Collecting tokenizers<0.22,>=0.21 (from transformers>=4.41.0)\n",
            "  Downloading tokenizers-0.21.1-cp39-abi3-manylinux_2_17_x86_64.manylinux2014_x86_64.whl.metadata (6.8 kB)\n",
            "Collecting safetensors>=0.4.3 (from transformers>=4.41.0)\n",
            "  Downloading safetensors-0.5.3-cp38-abi3-manylinux_2_17_x86_64.manylinux2014_x86_64.whl.metadata (3.8 kB)\n",
            "Requirement already satisfied: tqdm>=4.27 in /usr/local/lib/python3.11/dist-packages (from transformers>=4.41.0) (4.66.1)\n",
            "Requirement already satisfied: fsspec>=2023.5.0 in /usr/local/lib/python3.11/dist-packages (from huggingface-hub<1.0,>=0.30.0->transformers>=4.41.0) (2023.12.2)\n",
            "Requirement already satisfied: typing-extensions>=3.7.4.3 in /usr/local/lib/python3.11/dist-packages (from huggingface-hub<1.0,>=0.30.0->transformers>=4.41.0) (4.9.0)\n",
            "Requirement already satisfied: hf-xet<2.0.0,>=1.1.0 in /usr/local/lib/python3.11/dist-packages (from huggingface-hub<1.0,>=0.30.0->transformers>=4.41.0) (1.1.0)\n",
            "Requirement already satisfied: charset-normalizer<4,>=2 in /usr/local/lib/python3.11/dist-packages (from requests->transformers>=4.41.0) (3.3.2)\n",
            "Requirement already satisfied: idna<4,>=2.5 in /usr/local/lib/python3.11/dist-packages (from requests->transformers>=4.41.0) (3.6)\n",
            "Requirement already satisfied: urllib3<3,>=1.21.1 in /usr/local/lib/python3.11/dist-packages (from requests->transformers>=4.41.0) (2.1.0)\n",
            "Requirement already satisfied: certifi>=2017.4.17 in /usr/local/lib/python3.11/dist-packages (from requests->transformers>=4.41.0) (2023.11.17)\n",
            "Downloading transformers-4.51.3-py3-none-any.whl (10.4 MB)\n",
            "\u001b[2K   \u001b[90m━━━━━━━━━━━━━━━━━━━━━━━━━━━━━━━━━━━━━━━━\u001b[0m \u001b[32m10.4/10.4 MB\u001b[0m \u001b[31m76.6 MB/s\u001b[0m eta \u001b[36m0:00:00\u001b[0m\n",
            "\u001b[?25hDownloading safetensors-0.5.3-cp38-abi3-manylinux_2_17_x86_64.manylinux2014_x86_64.whl (471 kB)\n",
            "\u001b[2K   \u001b[90m━━━━━━━━━━━━━━━━━━━━━━━━━━━━━━━━━━━━━━━━\u001b[0m \u001b[32m471.6/471.6 kB\u001b[0m \u001b[31m36.3 MB/s\u001b[0m eta \u001b[36m0:00:00\u001b[0m\n",
            "\u001b[?25hDownloading tokenizers-0.21.1-cp39-abi3-manylinux_2_17_x86_64.manylinux2014_x86_64.whl (3.0 MB)\n",
            "\u001b[2K   \u001b[90m━━━━━━━━━━━━━━━━━━━━━━━━━━━━━━━━━━━━━━━━\u001b[0m \u001b[32m3.0/3.0 MB\u001b[0m \u001b[31m79.2 MB/s\u001b[0m eta \u001b[36m0:00:00\u001b[0m\n",
            "\u001b[?25hInstalling collected packages: safetensors, tokenizers, transformers\n",
            "  Attempting uninstall: safetensors\n",
            "    Found existing installation: safetensors 0.4.1\n",
            "    Uninstalling safetensors-0.4.1:\n",
            "      Successfully uninstalled safetensors-0.4.1\n",
            "  Attempting uninstall: tokenizers\n",
            "    Found existing installation: tokenizers 0.15.0\n",
            "    Uninstalling tokenizers-0.15.0:\n",
            "      Successfully uninstalled tokenizers-0.15.0\n",
            "  Attempting uninstall: transformers\n",
            "    Found existing installation: transformers 4.36.2\n",
            "    Uninstalling transformers-4.36.2:\n",
            "      Successfully uninstalled transformers-4.36.2\n",
            "Successfully installed safetensors-0.5.3 tokenizers-0.21.1 transformers-4.51.3\n"
          ]
        }
      ]
    },
    {
      "cell_type": "code",
      "source": [
        "!pip install --upgrade huggingface-hub>=0.14.1"
      ],
      "metadata": {
        "id": "O7qXpSMoT485"
      },
      "execution_count": 16,
      "outputs": []
    },
    {
      "cell_type": "code",
      "source": [
        "# In Colab, before any imports\n",
        "!pip install --upgrade diffusers huggingface-hub\n"
      ],
      "metadata": {
        "colab": {
          "base_uri": "https://localhost:8080/"
        },
        "id": "rNebQe-EUAqu",
        "outputId": "61c2560a-ccc1-4d4d-870d-cf207550019b"
      },
      "execution_count": 18,
      "outputs": [
        {
          "output_type": "stream",
          "name": "stdout",
          "text": [
            "Requirement already satisfied: diffusers in /usr/local/lib/python3.11/dist-packages (0.25.1)\n",
            "Collecting diffusers\n",
            "  Downloading diffusers-0.33.1-py3-none-any.whl.metadata (19 kB)\n",
            "Requirement already satisfied: huggingface-hub in /usr/local/lib/python3.11/dist-packages (0.31.1)\n",
            "Requirement already satisfied: importlib-metadata in /usr/local/lib/python3.11/dist-packages (from diffusers) (7.0.1)\n",
            "Requirement already satisfied: filelock in /usr/local/lib/python3.11/dist-packages (from diffusers) (3.13.1)\n",
            "Requirement already satisfied: numpy in /usr/local/lib/python3.11/dist-packages (from diffusers) (1.26.3)\n",
            "Requirement already satisfied: regex!=2019.12.17 in /usr/local/lib/python3.11/dist-packages (from diffusers) (2023.12.25)\n",
            "Requirement already satisfied: requests in /usr/local/lib/python3.11/dist-packages (from diffusers) (2.31.0)\n",
            "Requirement already satisfied: safetensors>=0.3.1 in /usr/local/lib/python3.11/dist-packages (from diffusers) (0.5.3)\n",
            "Requirement already satisfied: Pillow in /usr/local/lib/python3.11/dist-packages (from diffusers) (10.2.0)\n",
            "Requirement already satisfied: fsspec>=2023.5.0 in /usr/local/lib/python3.11/dist-packages (from huggingface-hub) (2023.12.2)\n",
            "Requirement already satisfied: packaging>=20.9 in /usr/local/lib/python3.11/dist-packages (from huggingface-hub) (23.2)\n",
            "Requirement already satisfied: pyyaml>=5.1 in /usr/local/lib/python3.11/dist-packages (from huggingface-hub) (6.0.1)\n",
            "Requirement already satisfied: tqdm>=4.42.1 in /usr/local/lib/python3.11/dist-packages (from huggingface-hub) (4.66.1)\n",
            "Requirement already satisfied: typing-extensions>=3.7.4.3 in /usr/local/lib/python3.11/dist-packages (from huggingface-hub) (4.9.0)\n",
            "Requirement already satisfied: hf-xet<2.0.0,>=1.1.0 in /usr/local/lib/python3.11/dist-packages (from huggingface-hub) (1.1.0)\n",
            "Requirement already satisfied: zipp>=0.5 in /usr/local/lib/python3.11/dist-packages (from importlib-metadata->diffusers) (3.17.0)\n",
            "Requirement already satisfied: charset-normalizer<4,>=2 in /usr/local/lib/python3.11/dist-packages (from requests->diffusers) (3.3.2)\n",
            "Requirement already satisfied: idna<4,>=2.5 in /usr/local/lib/python3.11/dist-packages (from requests->diffusers) (3.6)\n",
            "Requirement already satisfied: urllib3<3,>=1.21.1 in /usr/local/lib/python3.11/dist-packages (from requests->diffusers) (2.1.0)\n",
            "Requirement already satisfied: certifi>=2017.4.17 in /usr/local/lib/python3.11/dist-packages (from requests->diffusers) (2023.11.17)\n",
            "Downloading diffusers-0.33.1-py3-none-any.whl (3.6 MB)\n",
            "\u001b[2K   \u001b[90m━━━━━━━━━━━━━━━━━━━━━━━━━━━━━━━━━━━━━━━━\u001b[0m \u001b[32m3.6/3.6 MB\u001b[0m \u001b[31m53.3 MB/s\u001b[0m eta \u001b[36m0:00:00\u001b[0m\n",
            "\u001b[?25hInstalling collected packages: diffusers\n",
            "  Attempting uninstall: diffusers\n",
            "    Found existing installation: diffusers 0.25.1\n",
            "    Uninstalling diffusers-0.25.1:\n",
            "      Successfully uninstalled diffusers-0.25.1\n",
            "Successfully installed diffusers-0.33.1\n"
          ]
        }
      ]
    },
    {
      "cell_type": "code",
      "source": [
        "!python segment-image/main.py"
      ],
      "metadata": {
        "colab": {
          "base_uri": "https://localhost:8080/"
        },
        "id": "J5q5gnntUdHa",
        "outputId": "ef10cd11-3d5f-458d-ae61-383479d6b87d"
      },
      "execution_count": null,
      "outputs": [
        {
          "output_type": "stream",
          "name": "stdout",
          "text": [
            "2025-05-11 12:29:12.178880: E external/local_xla/xla/stream_executor/cuda/cuda_fft.cc:477] Unable to register cuFFT factory: Attempting to register factory for plugin cuFFT when one has already been registered\n",
            "WARNING: All log messages before absl::InitializeLog() is called are written to STDERR\n",
            "E0000 00:00:1746966552.213476    5884 cuda_dnn.cc:8310] Unable to register cuDNN factory: Attempting to register factory for plugin cuDNN when one has already been registered\n",
            "E0000 00:00:1746966552.227646    5884 cuda_blas.cc:1418] Unable to register cuBLAS factory: Attempting to register factory for plugin cuBLAS when one has already been registered\n",
            "/usr/local/lib/python3.11/dist-packages/segment_anything/build_sam.py:105: FutureWarning: You are using `torch.load` with `weights_only=False` (the current default value), which uses the default pickle module implicitly. It is possible to construct malicious pickle data which will execute arbitrary code during unpickling (See https://github.com/pytorch/pytorch/blob/main/SECURITY.md#untrusted-models for more details). In a future release, the default value for `weights_only` will be flipped to `True`. This limits the functions that could be executed during unpickling. Arbitrary objects will no longer be allowed to be loaded via this mode unless they are explicitly allowlisted by the user via `torch.serialization.add_safe_globals`. We recommend you start setting `weights_only=True` for any use case where you don't have full control of the loaded file. Please open an issue on GitHub for any issues related to this experimental feature.\n",
            "  state_dict = torch.load(f)\n",
            "Loading pipeline components...: 100% 6/6 [00:20<00:00,  3.35s/it]\n",
            "IMPORTANT: You are using gradio version 4.14.0, however version 4.44.1 is available, please upgrade.\n",
            "--------\n",
            "Running on local URL:  http://127.0.0.1:7860\n",
            "Running on public URL: https://2c1563a901b63318e0.gradio.live\n",
            "\n",
            "This share link expires in 72 hours. For free permanent hosting and GPU upgrades, run `gradio deploy` from Terminal to deploy to Spaces (https://huggingface.co/spaces)\n",
            "100% 50/50 [00:06<00:00,  7.74it/s]\n"
          ]
        }
      ]
    }
  ]
}